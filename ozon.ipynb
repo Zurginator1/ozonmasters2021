{
 "cells": [
  {
   "cell_type": "code",
   "execution_count": 3,
   "metadata": {},
   "outputs": [],
   "source": [
    "#Подключение библиотек для работы с файлами\n",
    "import pandas as pd \n",
    "import numpy as np"
   ]
  },
  {
   "cell_type": "code",
   "execution_count": 2,
   "metadata": {},
   "outputs": [],
   "source": [
    "#Чтение основного файла \n",
    "df_train = pd.read_csv('train.csv')"
   ]
  },
  {
   "cell_type": "code",
   "execution_count": 65,
   "metadata": {},
   "outputs": [],
   "source": [
    "#Ограничение для комфортной работы, необязательно если достаточно RAM \n",
    "df_train = df_train[:1500000]"
   ]
  },
  {
   "cell_type": "code",
   "execution_count": 66,
   "metadata": {},
   "outputs": [],
   "source": [
    "#Список уникальных юнитов \n",
    "#Изначально искал их так: list_of_units = df_train['X5'].unique(), выяснив что всего 101 юнит, просто стал создавать лист \n",
    "list_of_units = [i for i in range(101)] \n",
    "\n"
   ]
  },
  {
   "cell_type": "markdown",
   "metadata": {},
   "source": [
    "## Саздание таблицы признаков"
   ]
  },
  {
   "cell_type": "code",
   "execution_count": 67,
   "metadata": {},
   "outputs": [],
   "source": [
    "#Функция для k-hot encoding, используется для перекодирование таблиц с юнитами в бинарный набор, \n",
    "#где 1 - наличие в наборе юнита с таким номером, 0 - отсутствие\n",
    "def k_hot_encoder(data_frame_of_values, list_of_category):\n",
    "    K_hot_encoder_set = (data_frame_of_values.values[:,:,None] == list_of_category).any(1).astype(int)\n",
    "    return pd.DataFrame(K_hot_encoder_set, columns=list_of_category)"
   ]
  },
  {
   "cell_type": "code",
   "execution_count": 68,
   "metadata": {},
   "outputs": [],
   "source": [
    "def preprocessing_data(data_features):\n",
    "    \n",
    "    #Кодирование переменной 'X0'\n",
    "    X = pd.get_dummies(data_features['X0'] ,prefix='X0')\n",
    "    \n",
    "    #Добавление комбинаций юнитов для первого игрока \n",
    "    Xh1 = k_hot_encoder(data_features[['X5', 'X6', 'X7', 'X8', 'X9', 'X10','X11', 'X12']], list_of_units)#кодирование\n",
    "    #Добавление комбинаций юнитов для второго игрока \n",
    "    X = X.join(Xh1, rsuffix='first_set')    \n",
    "    \n",
    "    #Кодирование и добавление комбинаций юнитов для второго игрока в обучающий датасет\n",
    "    Xh2 = k_hot_encoder(data_features[['X13', 'X14', 'X15', 'X16', 'X17', 'X18', 'X19', 'X20']], list_of_units) #кодирование\n",
    "    X = X.join(Xh2, rsuffix='second_set')\n",
    "    \n",
    "    #Переменная для сравнение рейтингов игроков \n",
    "    X['compare_rang_players'] = np.where(data_features['X2'] > data_features['X4'], 1, 0)\n",
    "    return X"
   ]
  },
  {
   "cell_type": "code",
   "execution_count": 69,
   "metadata": {},
   "outputs": [],
   "source": [
    "#Таблица с признаками\n",
    "X = preprocessing_data(df_train)"
   ]
  },
  {
   "cell_type": "code",
   "execution_count": 71,
   "metadata": {},
   "outputs": [],
   "source": [
    "#Переменная предсказаний\n",
    "y = df_train['target']"
   ]
  },
  {
   "cell_type": "code",
   "execution_count": 73,
   "metadata": {},
   "outputs": [],
   "source": [
    "#Использовал для проверки\n",
    "#Составление датасетов для валидации \n",
    "#from sklearn.model_selection import train_test_split\n",
    "#X_train, X_valid, y_train, y_valid = train_test_split(X, y, test_size=0.30, random_state=7)\n",
    "#X_train.shape, X_valid.shape, y_train.shape, y_valid.shape"
   ]
  },
  {
   "cell_type": "markdown",
   "metadata": {},
   "source": [
    "## Модель предсказания победителя\n"
   ]
  },
  {
   "cell_type": "code",
   "execution_count": 74,
   "metadata": {},
   "outputs": [],
   "source": [
    "#Основана на методе градиентного бустинга  "
   ]
  },
  {
   "cell_type": "code",
   "execution_count": 75,
   "metadata": {},
   "outputs": [],
   "source": [
    "#Реализация классификации при помощи градиентного бустинга от Яндекса, подключаем библиотеку catboost и нужный модуль\n",
    "from catboost import CatBoostClassifier"
   ]
  },
  {
   "cell_type": "code",
   "execution_count": 78,
   "metadata": {},
   "outputs": [],
   "source": [
    "#Создаем модель с параметрами\n",
    "model = CatBoostClassifier(  \n",
    "               iterations=5300,\n",
    "               learning_rate=0.11,\n",
    "               task_type=\"GPU\",\n",
    "               verbose = False   \n",
    ")"
   ]
  },
  {
   "cell_type": "code",
   "execution_count": 2,
   "metadata": {},
   "outputs": [
    {
     "ename": "NameError",
     "evalue": "name 'model' is not defined",
     "output_type": "error",
     "traceback": [
      "\u001b[1;31m---------------------------------------------------------------------------\u001b[0m",
      "\u001b[1;31mNameError\u001b[0m                                 Traceback (most recent call last)",
      "\u001b[1;32m<ipython-input-2-80be5353ccf1>\u001b[0m in \u001b[0;36m<module>\u001b[1;34m\u001b[0m\n\u001b[0;32m      1\u001b[0m \u001b[1;31m#Обучаем модель\u001b[0m\u001b[1;33m\u001b[0m\u001b[1;33m\u001b[0m\u001b[1;33m\u001b[0m\u001b[0m\n\u001b[1;32m----> 2\u001b[1;33m model.fit(\n\u001b[0m\u001b[0;32m      3\u001b[0m     \u001b[0mX\u001b[0m\u001b[1;33m,\u001b[0m \u001b[0my\u001b[0m\u001b[1;33m\u001b[0m\u001b[1;33m\u001b[0m\u001b[0m\n\u001b[0;32m      4\u001b[0m     \u001b[1;31m#X_train, y_train использовал для валидации\u001b[0m\u001b[1;33m\u001b[0m\u001b[1;33m\u001b[0m\u001b[1;33m\u001b[0m\u001b[0m\n\u001b[0;32m      5\u001b[0m )\n",
      "\u001b[1;31mNameError\u001b[0m: name 'model' is not defined"
     ]
    }
   ],
   "source": [
    "#Обучаем модель\n",
    "model.fit(\n",
    "    X, y\n",
    "    #X_train, y_train использовал для валидации \n",
    ")"
   ]
  },
  {
   "cell_type": "code",
   "execution_count": 1,
   "metadata": {},
   "outputs": [],
   "source": [
    "#Использовал для валидации\n",
    "#from sklearn.metrics import log_loss\n",
    "#log_loss(y_valid,y_pred)"
   ]
  },
  {
   "cell_type": "markdown",
   "metadata": {},
   "source": [
    "## Применение модели для тестовых данных (test.csv)"
   ]
  },
  {
   "cell_type": "code",
   "execution_count": 3,
   "metadata": {},
   "outputs": [
    {
     "ename": "NameError",
     "evalue": "name 'pd' is not defined",
     "output_type": "error",
     "traceback": [
      "\u001b[1;31m---------------------------------------------------------------------------\u001b[0m",
      "\u001b[1;31mNameError\u001b[0m                                 Traceback (most recent call last)",
      "\u001b[1;32m<ipython-input-3-b971d39a94d0>\u001b[0m in \u001b[0;36m<module>\u001b[1;34m\u001b[0m\n\u001b[0;32m      1\u001b[0m \u001b[1;31m#Чтение тестовых данных\u001b[0m\u001b[1;33m\u001b[0m\u001b[1;33m\u001b[0m\u001b[1;33m\u001b[0m\u001b[0m\n\u001b[1;32m----> 2\u001b[1;33m \u001b[0mdf_test\u001b[0m \u001b[1;33m=\u001b[0m \u001b[0mpd\u001b[0m\u001b[1;33m.\u001b[0m\u001b[0mread_csv\u001b[0m\u001b[1;33m(\u001b[0m\u001b[1;34m'test.csv'\u001b[0m\u001b[1;33m)\u001b[0m\u001b[1;33m\u001b[0m\u001b[1;33m\u001b[0m\u001b[0m\n\u001b[0m",
      "\u001b[1;31mNameError\u001b[0m: name 'pd' is not defined"
     ]
    }
   ],
   "source": [
    "#Чтение тестовых данных \n",
    "df_test = pd.read_csv('test.csv')"
   ]
  },
  {
   "cell_type": "code",
   "execution_count": null,
   "metadata": {},
   "outputs": [],
   "source": [
    "#Препроцессинг для тестовых данных\n",
    "df_test = preprocessing_data(df_test)"
   ]
  },
  {
   "cell_type": "code",
   "execution_count": null,
   "metadata": {},
   "outputs": [],
   "source": [
    "#Прогноз модели для тестовых данных\n",
    "y_pred = model.predict_proba(df_test)"
   ]
  },
  {
   "cell_type": "code",
   "execution_count": null,
   "metadata": {},
   "outputs": [],
   "source": [
    "#Создание датафрейма [id,предсказание] и cохранение в файл  \n",
    "rez = pd.DataFrame({'id':df_test['id'], 'target':y_pred[:,1]},  )\n",
    "rez.to_csv('submit.csv',index = False)"
   ]
  },
  {
   "cell_type": "code",
   "execution_count": null,
   "metadata": {},
   "outputs": [],
   "source": []
  },
  {
   "cell_type": "code",
   "execution_count": null,
   "metadata": {},
   "outputs": [],
   "source": [
    "\n"
   ]
  },
  {
   "cell_type": "code",
   "execution_count": null,
   "metadata": {},
   "outputs": [],
   "source": []
  },
  {
   "cell_type": "code",
   "execution_count": null,
   "metadata": {},
   "outputs": [],
   "source": [
    "###########################################################################################\n",
    "###########################################################################################\n",
    "###############НЕ входит в основное решение################################################"
   ]
  },
  {
   "cell_type": "markdown",
   "metadata": {},
   "source": [
    "## Пробовал, но не давало результата, либо незначительный "
   ]
  },
  {
   "cell_type": "code",
   "execution_count": null,
   "metadata": {},
   "outputs": [],
   "source": [
    "\n",
    "#Хотел найти среди target = 0 ничьи, тк заметил, что таргет = 1 это 1/3 набора, а таргер = 0 2/3, \n",
    "#скорее всего половина с таргетом 0 это ничьи,\n",
    "#Хотел найти признаки для ничьх и сделать тройную классификацию, либо методом стекинга с перераспределением весов\n",
    "#Пробовал отзеркалить победы. Взять где таргет = 1, переставить игроков, их рейтинги и наборы юнитов местами,поставить 0 \n",
    "#,cложить эти два датасета и обучить на этом наборе "
   ]
  },
  {
   "cell_type": "code",
   "execution_count": null,
   "metadata": {},
   "outputs": [],
   "source": [
    "#Делал все в colab от Google, поэтому еще подключал такой модуль\n",
    "#from google.colab import drive\n",
    "#drive.mount('/content/gdrive', force_remount=True)"
   ]
  },
  {
   "cell_type": "code",
   "execution_count": null,
   "metadata": {},
   "outputs": [],
   "source": [
    "#Добавление колонок наборов игроков как листов и колонки с листом различий в наборах\n",
    "a = (df_train[['X5', 'X6', 'X7', 'X8', 'X9', 'X10','X11', 'X12']].values.tolist())\n",
    "b = (df_train[['X13', 'X14', 'X15', 'X16', 'X17', 'X18', 'X19', 'X20']].values.tolist())\n",
    "s = []\n",
    "for i in range(len(a)):\n",
    "    s.append( list(set(a[i]) - set(b[i])) + list(set(b[i])-set(a[i])) )\n",
    "df_train['dt1'] = a\n",
    "df_train['dt2'] = b\n",
    "df_train['delta'] = s\n",
    "\n"
   ]
  },
  {
   "cell_type": "code",
   "execution_count": null,
   "metadata": {},
   "outputs": [],
   "source": [
    "#Столбец с наибольшими и наименьшими рангами игроков\n",
    "rang_of_1_player = df_train.groupby('X1').agg({'X2':['min','max']}) #as_index = False , suffixes=('', '2')\n",
    "df_train = df_train.merge(rang_of_1_player[[('X2','min')]], how='left', left_on = 'X1',  right_index = True )\n",
    "df_train = df_train.merge(rang_of_1_player[[('X2','max')]], how='left', left_on = 'X1', right_index = True )\n",
    "\n",
    "rang_of_2_player = df_train.groupby('X3').agg({'X4':['min','max']}) #as_index = False , suffixes=('', '2')\n",
    "df_train = df_train.merge(rang_of_2_player[[('X4','min')]], how='left', left_on = 'X3',  right_index = True )\n",
    "df_train = df_train.merge(rang_of_2_player[[('X4','max')]], how='left', left_on = 'X3', right_index = True )"
   ]
  },
  {
   "cell_type": "code",
   "execution_count": null,
   "metadata": {},
   "outputs": [],
   "source": []
  },
  {
   "cell_type": "code",
   "execution_count": null,
   "metadata": {},
   "outputs": [],
   "source": [
    "#Искал винрейт для игрока (количесвто побед/количество игр)\n",
    "#, брал только тех, у кого 100 боев и больше, иначе игра 1/1 (и подобные) оценивалась как 100% побед \n",
    "#Винрейт игроков \n",
    "win_player = df_train[['X1','target']].groupby('X1').agg({'target':['count','sum']}) #as_index = False\n",
    "win_player['winrate'] = win_player[('target','sum')] / win_player[('target','count')] \n",
    "tabwinrate = win_player[(win_player[('target','count')]>100) & (win_player[('target','count')]<300)].sort_values([('winrate')], ascending=False )\n",
    "#tabwinrate\n",
    "#Для записи фичи в трейн дата\n",
    "df_train = df_train.merge(tabwinrate['winrate'], how='left', left_on = 'X1',  right_index = True )\n",
    "df_train = df_train.merge(tabwinrate['winrate'], how='left', left_on = 'X3', right_index = True, suffixes=('', '2') )\n",
    "df_train['winrate'] = df_train['winrate'].fillna(df_train['winrate'].mean(axis=0)-0.1)\n",
    "df_train['winrate2'] = df_train['winrate2'].fillna(df_train['winrate2'].mean(axis=0)-0.1)\n",
    "#Для записи фичи в тест дата\n",
    "df_test = df_test.merge(tabwinrate['winrate'], how='left', left_on = 'X1',  right_index = True )\n",
    "df_test = df_test.merge(tabwinrate['winrate'], how='left', left_on = 'X3', right_index = True, suffixes=('', '2') )\n",
    "df_test['winrate'] = df_test['winrate'].fillna(df_test['winrate'].mean(axis=0)-0.1)\n",
    "df_test['winrate2'] = df_test['winrate2'].fillna(df_test['winrate2'].mean(axis=0)-0.1)"
   ]
  },
  {
   "cell_type": "code",
   "execution_count": null,
   "metadata": {},
   "outputs": [],
   "source": [
    "#Искал победные комбинации,комбинация (кол-во побед / кол-во боев), отбирал такие, которые учавсвовали в 500+ боях, других заменял на среднее  \n",
    "a = list(map(frozenset, a))\n",
    "df_train['set_of_first'] = a\n",
    "b = list(map(frozenset, b))\n",
    "df_train['set_of_second'] = b\n",
    "\n",
    "table_of_df_train = df_train[['set_of_first','target']].groupby('set_of_first').agg({'target':['count','sum']})\n",
    "table_of_df_train = table_of_df_train.sort_values([('target','sum')])\n",
    "table_of_df_train[('target','deltarget')] = table_of_df_train[('target','sum')] / table_of_df_train[('target','count')] \n",
    "A = table_of_df_train[table_of_df_train[('target','count')]>500].sort_values([('target','deltarget')], ascending=False )\n",
    "\n",
    "#для записи фичи в трейн дата\n",
    "df_train = df_train.merge(A[[('target','deltarget')]], how='left', left_on = 'set_of_first',  right_index = True )\n",
    "df_train = df_train.merge(A[[('target','deltarget')]], how='left', left_on = 'set_of_second',  right_index = True )\n",
    "df_train[\"('target', 'deltarget')_x\"] = df_train[\"('target', 'deltarget')_x\"].fillna(df_train[\"('target', 'deltarget')_x\"].mean(axis=0) - 0.2)\n",
    "df_train[('target_y', 'deltarget')] = df_train[('target_y', 'deltarget')].fillna(df_train[('target_y', 'deltarget')].mean(axis=0) - 0.2)\n",
    "#для записи фичи в тестовые данные\n",
    "df_test = df_test.merge(A[[('target','deltarget')]], how='left', left_on = 'set_of_first',  right_index = True )\n",
    "df_test = df_test.merge(A[[('target','deltarget')]], how='left', left_on = 'set_of_second',  right_index = True )\n",
    "df_test[\"('target', 'deltarget')_x\"] = df_test[\"('target', 'deltarget')_x\"].fillna(df_test[\"('target', 'deltarget')_x\"].mean(axis=0) - 0.2)\n",
    "df_test[('target_y', 'deltarget')] = df_test[('target_y', 'deltarget')].fillna(df_test[('target_y', 'deltarget')].mean(axis=0) - 0.2)"
   ]
  },
  {
   "cell_type": "code",
   "execution_count": null,
   "metadata": {},
   "outputs": [],
   "source": [
    "#Поиск сочитаний в наборах, определение винрейта юнита\n",
    "#Для боя каждый юнит из первого(выйграшного) набора сопоставлялся с каждым юнитов во втором(проигравшем) наборе\n",
    "B = df_train[df_train['target']==1]\n",
    "\n",
    "\n",
    "с = B[['dt1','dt2']].values.tolist()\n",
    "m_zeros = np.zeros((101, 101)) #Матрица побед\n",
    "m_zeros2 = np.zeros((101, 101)) # Матрица поражений\n",
    "\n",
    "#заполнение матриц\n",
    "for i in с: \n",
    "    un1 = i[0]\n",
    "    un2 = i[1]\n",
    "    for j in un1:\n",
    "        for k in un2:\n",
    "            m_zeros[j,k] +=1\n",
    "            m_zeros2[k,j] +=1   \n",
    "\n",
    "#матрица сумм \n",
    "result = np.zeros((101, 101))\n",
    "for i in range(len(m_zeros)): \n",
    "    for j in range(len(m_zeros[0])):  \n",
    "              result[i][j] = m_zeros[i][j] + m_zeros2[i][j] \n",
    "              \n",
    "#Матрица winrate для юнитов\n",
    "result2 = np.zeros((101, 101))\n",
    "for i in range(len(m_zeros)): \n",
    "    for j in range(len(m_zeros[0])):  \n",
    "              result2[i][j] = m_zeros[i][j] / result[i][j] \n",
    "\n",
    "\n",
    "#Запись в трейн\n",
    "c = df_train[['dt1','dt2']].values.tolist()\n",
    "slist = []\n",
    "s2list = []\n",
    "for i in c: \n",
    "    un1 = i[0]\n",
    "    un2 = i[1]\n",
    "    s = 0\n",
    "    s2 = 0\n",
    "    for j in un1:\n",
    "        for k in un2:\n",
    "            s = s + result2[j,k]\n",
    "            s2 = s2 + result2[k,j]\n",
    "        slist.append(s)\n",
    "        s2list.append(s2)\n",
    "#Добавление фичи разница сумм винрейтов юниов в наборах\n",
    "df_train['X22'] = [slist[i]-s2list[i] for i in range(len(slist))]\n",
    "\n",
    "\n",
    "\n",
    "\n",
    "\n",
    "#Запись в тест\n",
    "a = (df_test[['X5', 'X6', 'X7', 'X8', 'X9', 'X10','X11', 'X12']].values.tolist())\n",
    "b = (df_test[['X13', 'X14', 'X15', 'X16', 'X17', 'X18', 'X19', 'X20']].values.tolist())\n",
    "s = []\n",
    "for i in range(len(a)):\n",
    "    s.append( list(set(a[i]) - set(b[i])) + list(set(b[i])-set(a[i])) )\n",
    "df_test['dt1'] = a\n",
    "df_test['dt2'] = b\n",
    "df_test['delta'] = s\n",
    "c = df_test[['dt1','dt2']].values.tolist()\n",
    "slist = []\n",
    "s2list = []\n",
    "for i in c: \n",
    "    un1 = i[0]\n",
    "    un2 = i[1]\n",
    "    s = 0\n",
    "    s2 = 0\n",
    "    for j in un1:\n",
    "        for k in un2:\n",
    "            s = s + result2[j,k]\n",
    "            s2 = s2 + result2[k,j]\n",
    "        slist.append(s)\n",
    "        s2list.append(s2)\n",
    "#Добавление фичи разница сумм винрейтов юниов в наборах\n",
    "df_test['X22'] = [slist[i]-s2list[i] for i in range(len(slist))]\n",
    "\n",
    "\n",
    "\n",
    "#Пытался делать винрейты для юнитов, но штрафуя(-1) за нахождение в проиграшном наборе, и +1 за нахождение в победном.\n",
    "#Получалась хорошая диагональная матрица,но результат был очень не значительным, не удалось потестить на разных параметрах "
   ]
  },
  {
   "cell_type": "code",
   "execution_count": null,
   "metadata": {},
   "outputs": [],
   "source": [
    "#для фичей которые не получились\n",
    "X = X.join(df_train[['winrate','winrate2',\"('X2','max')\",\"('X2','min')\",\"'X4','min'\",\"'X4','max'\",'X22',('target_y', 'deltarget'),\"('target', 'deltarget')_x\"]])\n",
    "X.drop('delta','dt1','dt2')"
   ]
  },
  {
   "cell_type": "code",
   "execution_count": null,
   "metadata": {},
   "outputs": [],
   "source": [
    "#Также при анализе строил графики распределения для разных столбцов и подгрупп"
   ]
  },
  {
   "cell_type": "code",
   "execution_count": null,
   "metadata": {},
   "outputs": [],
   "source": []
  },
  {
   "cell_type": "code",
   "execution_count": null,
   "metadata": {},
   "outputs": [],
   "source": []
  }
 ],
 "metadata": {
  "kernelspec": {
   "display_name": "Python 3",
   "language": "python",
   "name": "python3"
  },
  "language_info": {
   "codemirror_mode": {
    "name": "ipython",
    "version": 3
   },
   "file_extension": ".py",
   "mimetype": "text/x-python",
   "name": "python",
   "nbconvert_exporter": "python",
   "pygments_lexer": "ipython3",
   "version": "3.8.5"
  }
 },
 "nbformat": 4,
 "nbformat_minor": 4
}
